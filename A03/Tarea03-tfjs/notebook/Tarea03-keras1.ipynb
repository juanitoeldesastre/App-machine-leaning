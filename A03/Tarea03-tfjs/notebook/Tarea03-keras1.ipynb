{
 "cells": [
  {
   "cell_type": "code",
   "execution_count": 1,
   "id": "ca8b01ed-b226-4807-b938-2576ef3bdb9b",
   "metadata": {},
   "outputs": [],
   "source": [
    "import os\n",
    "os.environ[\"TF_USE_LEGACY_KERAS\"] = \"1\""
   ]
  },
  {
   "cell_type": "code",
   "execution_count": 3,
   "id": "b16c2cc5-1445-4eea-b822-760a082879ea",
   "metadata": {},
   "outputs": [
    {
     "name": "stdout",
     "output_type": "stream",
     "text": [
      "Found 20000 images belonging to 2 classes.\n",
      "Found 4998 images belonging to 2 classes.\n"
     ]
    }
   ],
   "source": [
    "from tensorflow.keras.preprocessing.image import ImageDataGenerator\n",
    "\n",
    "train_datagen = ImageDataGenerator(rescale=1./255, validation_split=0.2)\n",
    "\n",
    "train_generator = train_datagen.flow_from_directory(\n",
    "    directory=\"dataset\",\n",
    "    target_size=(150, 150),\n",
    "    batch_size=32,\n",
    "    class_mode='binary',\n",
    "    subset='training',\n",
    "    shuffle=True\n",
    ")\n",
    "\n",
    "val_generator = train_datagen.flow_from_directory(\n",
    "    directory=\"dataset\",\n",
    "    target_size=(150, 150),\n",
    "    batch_size=32,\n",
    "    class_mode='binary',\n",
    "    subset='validation',\n",
    "    shuffle=True\n",
    ")"
   ]
  },
  {
   "cell_type": "code",
   "execution_count": 4,
   "id": "5ec9e2a6-33a6-4427-b77d-04d6303ef8c7",
   "metadata": {},
   "outputs": [
    {
     "name": "stdout",
     "output_type": "stream",
     "text": [
      "Model: \"sequential\"\n",
      "_________________________________________________________________\n",
      " Layer (type)                Output Shape              Param #   \n",
      "=================================================================\n",
      " conv2d (Conv2D)             (None, 148, 148, 32)      896       \n",
      "                                                                 \n",
      " max_pooling2d (MaxPooling2D  (None, 74, 74, 32)       0         \n",
      " )                                                               \n",
      "                                                                 \n",
      " conv2d_1 (Conv2D)           (None, 72, 72, 64)        18496     \n",
      "                                                                 \n",
      " max_pooling2d_1 (MaxPooling  (None, 36, 36, 64)       0         \n",
      " 2D)                                                             \n",
      "                                                                 \n",
      " conv2d_2 (Conv2D)           (None, 34, 34, 128)       73856     \n",
      "                                                                 \n",
      " max_pooling2d_2 (MaxPooling  (None, 17, 17, 128)      0         \n",
      " 2D)                                                             \n",
      "                                                                 \n",
      " flatten (Flatten)           (None, 36992)             0         \n",
      "                                                                 \n",
      " dense (Dense)               (None, 128)               4735104   \n",
      "                                                                 \n",
      " dropout (Dropout)           (None, 128)               0         \n",
      "                                                                 \n",
      " dense_1 (Dense)             (None, 1)                 129       \n",
      "                                                                 \n",
      "=================================================================\n",
      "Total params: 4,828,481\n",
      "Trainable params: 4,828,481\n",
      "Non-trainable params: 0\n",
      "_________________________________________________________________\n"
     ]
    }
   ],
   "source": [
    "from tensorflow.keras.models import Sequential\n",
    "from tensorflow.keras.layers import Conv2D, MaxPooling2D, Flatten, Dense, Dropout\n",
    "\n",
    "model = Sequential([\n",
    "    Conv2D(32, (3, 3), activation='relu', input_shape=(150, 150, 3)),\n",
    "    MaxPooling2D(pool_size=(2, 2)),\n",
    "\n",
    "    Conv2D(64, (3, 3), activation='relu'),\n",
    "    MaxPooling2D(pool_size=(2, 2)),\n",
    "\n",
    "    Conv2D(128, (3, 3), activation='relu'),\n",
    "    MaxPooling2D(pool_size=(2, 2)),\n",
    "\n",
    "    Flatten(),\n",
    "    Dense(128, activation='relu'),\n",
    "    Dropout(0.5),  # Evita overfitting\n",
    "    Dense(1, activation='sigmoid')  # Para clasificación binaria\n",
    "])\n",
    "\n",
    "model.compile(\n",
    "    optimizer='adam',\n",
    "    loss='binary_crossentropy',\n",
    "    metrics=['accuracy']\n",
    ")\n",
    "\n",
    "model.summary()"
   ]
  },
  {
   "cell_type": "code",
   "execution_count": 5,
   "id": "2b413594-2a1b-4266-bdb9-2bbb7b7c4fc7",
   "metadata": {},
   "outputs": [
    {
     "name": "stdout",
     "output_type": "stream",
     "text": [
      "Epoch 1/10\n",
      "209/625 [=========>....................] - ETA: 2:56 - loss: 0.6906 - accuracy: 0.5529 "
     ]
    },
    {
     "name": "stderr",
     "output_type": "stream",
     "text": [
      "C:\\Users\\juanito\\AppData\\Roaming\\Python\\Python310\\site-packages\\PIL\\TiffImagePlugin.py:950: UserWarning: Truncated File Read\n",
      "  warnings.warn(str(msg))\n"
     ]
    },
    {
     "name": "stdout",
     "output_type": "stream",
     "text": [
      "625/625 [==============================] - 325s 519ms/step - loss: 0.6325 - accuracy: 0.6346 - val_loss: 0.5465 - val_accuracy: 0.7183\n",
      "Epoch 2/10\n",
      "625/625 [==============================] - 300s 480ms/step - loss: 0.5113 - accuracy: 0.7530 - val_loss: 0.4753 - val_accuracy: 0.7871\n",
      "Epoch 3/10\n",
      "625/625 [==============================] - 298s 477ms/step - loss: 0.4418 - accuracy: 0.7965 - val_loss: 0.4169 - val_accuracy: 0.8081\n",
      "Epoch 4/10\n",
      "625/625 [==============================] - 300s 480ms/step - loss: 0.3782 - accuracy: 0.8328 - val_loss: 0.4014 - val_accuracy: 0.8245\n",
      "Epoch 5/10\n",
      "625/625 [==============================] - 305s 488ms/step - loss: 0.3171 - accuracy: 0.8609 - val_loss: 0.3842 - val_accuracy: 0.8391\n",
      "Epoch 6/10\n",
      "625/625 [==============================] - 286s 458ms/step - loss: 0.2527 - accuracy: 0.8921 - val_loss: 0.3926 - val_accuracy: 0.8343\n",
      "Epoch 7/10\n",
      "625/625 [==============================] - 308s 493ms/step - loss: 0.1913 - accuracy: 0.9215 - val_loss: 0.4100 - val_accuracy: 0.8448\n",
      "Epoch 8/10\n",
      "625/625 [==============================] - 298s 477ms/step - loss: 0.1518 - accuracy: 0.9391 - val_loss: 0.4854 - val_accuracy: 0.8371\n",
      "Epoch 9/10\n",
      "625/625 [==============================] - 298s 477ms/step - loss: 0.1192 - accuracy: 0.9535 - val_loss: 0.4798 - val_accuracy: 0.8454\n",
      "Epoch 10/10\n",
      "625/625 [==============================] - 316s 506ms/step - loss: 0.0936 - accuracy: 0.9638 - val_loss: 0.5786 - val_accuracy: 0.8379\n"
     ]
    }
   ],
   "source": [
    "# Entrenamiento del modelo\n",
    "history = model.fit(\n",
    "    train_generator,\n",
    "    steps_per_epoch=train_generator.samples // train_generator.batch_size,\n",
    "    validation_data=val_generator,\n",
    "    validation_steps=val_generator.samples // val_generator.batch_size,\n",
    "    epochs=10  # puedes ajustar según tu tiempo y dataset\n",
    ")\n"
   ]
  },
  {
   "cell_type": "code",
   "execution_count": 7,
   "id": "47e4cddf-dfe3-4dc3-863d-d15fd0cfd5c2",
   "metadata": {},
   "outputs": [],
   "source": [
    "model.save('model.h5')"
   ]
  }
 ],
 "metadata": {
  "kernelspec": {
   "display_name": "Python 3 (ipykernel)",
   "language": "python",
   "name": "python3"
  },
  "language_info": {
   "codemirror_mode": {
    "name": "ipython",
    "version": 3
   },
   "file_extension": ".py",
   "mimetype": "text/x-python",
   "name": "python",
   "nbconvert_exporter": "python",
   "pygments_lexer": "ipython3",
   "version": "3.10.18"
  }
 },
 "nbformat": 4,
 "nbformat_minor": 5
}
